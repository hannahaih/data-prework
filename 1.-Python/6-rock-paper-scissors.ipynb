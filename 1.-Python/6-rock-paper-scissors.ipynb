{
 "cells": [
  {
   "cell_type": "markdown",
   "metadata": {},
   "source": [
    "<img src=\"https://bit.ly/2VnXWr2\" width=\"100\" align=\"left\">"
   ]
  },
  {
   "cell_type": "markdown",
   "metadata": {},
   "source": [
    "# Rock, Paper & Scissors\n",
    "\n",
    "Let's play the famous game against our computer. You can check the rules [here](https://en.wikipedia.org/wiki/Rock%E2%80%93paper%E2%80%93scissors). \n",
    "\n",
    "## Task\n",
    "Create a program that imitates the playability of the well known game of rock, paper, scissors. Follow the guidelines provided.\n",
    "\n",
    "## Tools\n",
    "1. Loop: **for/while**\n",
    "2. Functions: **input(), print()...**\n",
    "3. Conditional statements: **if, elif, else**\n",
    "4. Definition of functions. Modular programming\n",
    "5. Import modules\n",
    "\n",
    "**To solve this challenge, the use of functions is recommended.**\n",
    "\n",
    "#### 1. Import the choice function of the random module."
   ]
  },
  {
   "cell_type": "code",
   "execution_count": 44,
   "metadata": {},
   "outputs": [],
   "source": [
    "import random"
   ]
  },
  {
   "cell_type": "markdown",
   "metadata": {},
   "source": [
    "#### 2. Create a list that includes the 3 possible gesture options of the game: 'rock', 'paper' or 'scissors'. Store the list in a variable called `gestures`."
   ]
  },
  {
   "cell_type": "code",
   "execution_count": 45,
   "metadata": {},
   "outputs": [],
   "source": [
    "gestures = [\"rock\", \"paper\", \"scissors\"]"
   ]
  },
  {
   "cell_type": "markdown",
   "metadata": {},
   "source": [
    "#### 3. Create a variable called `n_rounds` to store the maximum number of rounds to play in a game. \n",
    "Remember that the number of rounds must be odd: 1, 3, 5, ..."
   ]
  },
  {
   "cell_type": "code",
   "execution_count": null,
   "metadata": {},
   "outputs": [],
   "source": [
    "def get_rounds():\n",
    "    while True:\n",
    "        try:\n",
    "            n_rounds = int(input(\"Enter an odd number: \"))\n",
    "            flag = n_rounds%2\n",
    "            if flag == 0:\n",
    "                print(n_rounds, \"is an even number, let's make it\",int(n_rounds+1))\n",
    "                n_rounds += 1\n",
    "                print(n_rounds, \"rounds to play!\\n\")\n",
    "                break\n",
    "            elif flag == 1:\n",
    "                print(n_rounds, \"rounds to play!\\n\")\n",
    "                break\n",
    "        except ValueError:\n",
    "            print(\"...this doesn't look like a number, please try again\")\n",
    "    return(n_rounds)\n"
   ]
  },
  {
   "cell_type": "markdown",
   "metadata": {},
   "source": [
    "#### 4. Create a variable called `rounds_to_win` to store the number of rounds that a player must win to win the game.\n",
    "**Hint**: the value stored in `rounds_to_win` depends on the value of `n_rounds`. "
   ]
  },
  {
   "cell_type": "code",
   "execution_count": null,
   "metadata": {},
   "outputs": [],
   "source": [
    "def get_rounds_min():\n",
    "    rounds_to_win = int(n_rounds * 0.5 + 0.5)\n",
    "    return(rounds_to_win)"
   ]
  },
  {
   "cell_type": "markdown",
   "metadata": {},
   "source": [
    "#### 5. Create two variables to store the number of rounds that the computer and the player have won. Call these variables `cpu_score` and `player_score`."
   ]
  },
  {
   "cell_type": "code",
   "execution_count": null,
   "metadata": {},
   "outputs": [],
   "source": [
    "cpu_score = 0\n",
    "player_score = 0"
   ]
  },
  {
   "cell_type": "markdown",
   "metadata": {},
   "source": [
    "#### 6. Define a function that randomly returns one of the 3 gesture options.\n",
    "You will use this function to simulate the gesture choice of the computer. "
   ]
  },
  {
   "cell_type": "code",
   "execution_count": null,
   "metadata": {},
   "outputs": [],
   "source": [
    "import random\n",
    "gestures = [\"rock\", \"paper\", \"scissors\"]\n",
    "\n",
    "def get_cpu_gesture():   \n",
    "    cpu_gesture = random.choice(gestures)\n",
    "    print(\"My choice:\",cpu_gesture)\n",
    "    return(cpu_gesture)\n",
    "    \n",
    "\n",
    "get_cpu_gesture()"
   ]
  },
  {
   "cell_type": "markdown",
   "metadata": {},
   "source": [
    "#### 7. Define a function that asks the player which is the gesture he or she wants to show: 'rock', 'paper' or 'scissors'.\n",
    "The player should only be allowed to choose one of the 3 gesture options. If the player's choice is not rock, paper or scissors, keep asking until it is."
   ]
  },
  {
   "cell_type": "code",
   "execution_count": null,
   "metadata": {},
   "outputs": [],
   "source": [
    "def get_player_gesture():\n",
    "    while True:\n",
    "        player_gesture = input(\"Your choice: \")\n",
    "        if player_gesture in [\"rock\", \"paper\", \"scissors\"]:\n",
    "            return(player_gesture)\n",
    "\n",
    "\n",
    "get_player_gesture()"
   ]
  },
  {
   "cell_type": "markdown",
   "metadata": {},
   "source": [
    "#### 8. Define a function that checks who won a round. \n",
    "The function should return 0 if there is a tie, 1 if the computer wins and 2 if the player wins."
   ]
  },
  {
   "cell_type": "markdown",
   "metadata": {},
   "source": [
    "#### 9. Define a function that prints the choice of the computer, the choice of the player and a message that announces who won the current round. \n",
    "defYou should also use this function to update the variables that count the number of rounds that the computer and the player have won. The score of the winner increases by one point. If there is a tie, the score does not increase."
   ]
  },
  {
   "cell_type": "code",
   "execution_count": 192,
   "metadata": {},
   "outputs": [],
   "source": [
    "max_rounds = 1\n",
    "\n",
    "\n",
    "def get_round_winner():\n",
    "    rounds = 0\n",
    "    cscore = 0\n",
    "    pscore = 0\n",
    "    while rounds < max_rounds:\n",
    "        player_gesture = get_player_gesture()\n",
    "        cpu_gesture = get_cpu_gesture()\n",
    "        if player_gesture == 'rock':\n",
    "            rounds += 1\n",
    "            print(\"\\nRound Number:\",rounds)\n",
    "            if cpu_gesture == 'paper':\n",
    "                cscore += 1\n",
    "                print(\">>>>> paper covers rock -- POINT FOR ME\\n\") \n",
    "            elif cpu_gesture == 'scissors': \n",
    "                print(\">>>>> rock crushes scissors - - POINT FOR YOU\\n\")\n",
    "                pscore += 1\n",
    "            elif cpu_gesture == 'rock':\n",
    "                print(\">>>>> tie\\n\")\n",
    "        elif player_gesture == 'paper':\n",
    "            rounds += 1\n",
    "            print(\"\\nRound Number:\",rounds)\n",
    "            if cpu_gesture == 'rock':\n",
    "                print(\">>>>> paper covers rock - - POINT FOR YOU\\n\")\n",
    "                pscore += 1\n",
    "            elif cpu_gesture == 'scissors':\n",
    "                print(\">>>>> scissors cuts paper -- POINT FOR ME\\n\")\n",
    "                cscore +=1\n",
    "            elif cpu_gesture == 'paper':\n",
    "                print(\">>>>> tie\\n\")\n",
    "        elif player_gesture == 'scissors':\n",
    "            rounds += 1\n",
    "            print(\"\\nRound Number:\",rounds)\n",
    "            if cpu_gesture == 'rock':\n",
    "                print(\">>>>> rock crushes scissors - - POINT FOR ME\\n\")\n",
    "                cscore += 1\n",
    "            elif cpu_gesture == 'paper':\n",
    "                print(\">>>>> scissors cuts paper -- POINT FOR YOU\\n\")\n",
    "                pscore += 1\n",
    "            elif cpu_gesture == 'scissors':\n",
    "                print(\">>>>> tie\\n\")\n",
    "    print(\"You score:\",pscore)\n",
    "    print(\"I score:\",cscore)\n",
    "    if pscore > cscore:\n",
    "        return(\"P\")\n",
    "    elif cscore > pscore:\n",
    "        return(\"C\")\n",
    "    elif cscore == pscore:\n",
    "        return(\"T\")\n",
    "    \n",
    "\n",
    "\n"
   ]
  },
  {
   "cell_type": "markdown",
   "metadata": {},
   "source": [
    "#### 10. Now it's time to code the execution of the game using the functions and variables you defined above. \n",
    "\n",
    "First, create a loop structure that repeats while no player reaches the minimum score necessary to win and the number of rounds is less than the maximum number of rounds to play in a game.  \n",
    "\n",
    "Inside the loop, use the functions and variables above to create the execution of a round: ask for the player's choice, generate the random choice of the computer, show the round results, update the scores, etc. "
   ]
  },
  {
   "cell_type": "code",
   "execution_count": 195,
   "metadata": {},
   "outputs": [
    {
     "name": "stdout",
     "output_type": "stream",
     "text": [
      "Enter an odd number: 3\n",
      "3 rounds to play!\n",
      "\n",
      "Your choice: rock\n",
      "My choice: paper\n",
      "\n",
      "Round Number: 1\n",
      ">>>>> paper covers rock -- POINT FOR ME\n",
      "\n",
      "Your choice: rock\n",
      "My choice: rock\n",
      "\n",
      "Round Number: 2\n",
      ">>>>> tie\n",
      "\n",
      "Your choice: rock\n",
      "My choice: rock\n",
      "\n",
      "Round Number: 3\n",
      ">>>>> tie\n",
      "\n",
      "You score: 0\n",
      "I score: 1\n"
     ]
    }
   ],
   "source": [
    "cpu_score = 0\n",
    "player_score = 0\n",
    "\n",
    "max_rounds = get_rounds()\n",
    "\n",
    "winner = get_round_winner()\n",
    "\n"
   ]
  },
  {
   "cell_type": "markdown",
   "metadata": {},
   "source": [
    "#### 11. Print the winner of the game based on who won more rounds.\n",
    "Remember that the game might be tied. "
   ]
  },
  {
   "cell_type": "code",
   "execution_count": 196,
   "metadata": {},
   "outputs": [
    {
     "name": "stdout",
     "output_type": "stream",
     "text": [
      "\n",
      "computer wins\n"
     ]
    }
   ],
   "source": [
    "if winner == \"P\":\n",
    "    player_score += 1\n",
    "    print(\"\\nplayer wins\")\n",
    "elif winner == \"C\":\n",
    "    cpu_score += 1\n",
    "    print(\"\\ncomputer wins\")\n",
    "elif winner == \"T\":\n",
    "    print(\"\\ntie\")"
   ]
  },
  {
   "cell_type": "markdown",
   "metadata": {},
   "source": [
    "# Bonus: Rock, Paper, Scissors, Lizard & Spock\n",
    "![](images/rpsls.jpg)\n",
    "\n",
    "In this challenge, you need to improve the previous game by adding two new options. To know more about the rules of the improved version of rock, paper, scissors, check this [link](http://www.samkass.com/theories/RPSSL.html). \n",
    "\n",
    "In addition, you will also need to improve how the game interacts with the player: the number of rounds to play, which must be an odd number, will be requested to the user until a valid number is entered. Define a new function to make that request.\n",
    "\n",
    "**Hint**: Try to reuse the code that you already coded in the previous challenge. If your code is efficient, this bonus will only consist of simple modifications to the original game."
   ]
  },
  {
   "cell_type": "code",
   "execution_count": null,
   "metadata": {},
   "outputs": [],
   "source": []
  }
 ],
 "metadata": {
  "kernelspec": {
   "display_name": "Python 3",
   "language": "python",
   "name": "python3"
  },
  "language_info": {
   "codemirror_mode": {
    "name": "ipython",
    "version": 3
   },
   "file_extension": ".py",
   "mimetype": "text/x-python",
   "name": "python",
   "nbconvert_exporter": "python",
   "pygments_lexer": "ipython3",
   "version": "3.8.4"
  }
 },
 "nbformat": 4,
 "nbformat_minor": 2
}
